{
  "nbformat": 4,
  "nbformat_minor": 0,
  "metadata": {
    "colab": {
      "provenance": []
    },
    "kernelspec": {
      "name": "python3",
      "display_name": "Python 3"
    },
    "language_info": {
      "name": "python"
    }
  },
  "cells": [
    {
      "cell_type": "markdown",
      "source": [
        "#**Week 5 - Assignmet** (Week 5 Assignment is in continuity with Week 4 assignment)\n",
        "####Using the provided dataset, you will be required to perform the following tasks:\n",
        "\n",
        "•Describe each different type of evaluation metric used for regression algorithms. Provide examples of when to use each that was not discussed in class.\n",
        "\n",
        "•Explain what a confusion matrix is and why it is useful. Think of an example Al model and create a table with your solution's predictions on your fictitious test dataset. From your solution's results calculate your confusion matrix, precision, recall, Fl score, and then explain the meaning of your results."
      ],
      "metadata": {
        "id": "aSUtuNH9e3f_"
      }
    },
    {
      "cell_type": "markdown",
      "source": [
        "# Dataset Information\n",
        "\n",
        "## Context\n",
        "The Week 5 assignment focuses on evaluating model performance using regression and classification metrics. It builds on the previous week's assignment, emphasizing the assessment of predictive models through various evaluation techniques. The primary objective is to understand how well models perform in both continuous prediction tasks (regression) and discrete classification tasks.\n",
        "\n",
        "Understanding the effectiveness of these evaluation metrics is crucial for model optimization and making informed decisions in practical applications. The assignment covers metrics like Mean Absolute Error (MAE), Mean Squared Error (MSE), Root Mean Squared Error (RMSE), R-Squared (R²), Mean Absolute Percentage Error (MAPE), Precision, Recall, F1 Score, and Confusion Matrix.\n",
        "\n",
        "## Content\n",
        "### Columns\n",
        "The dataset consists of the following attributes:\n",
        "- **customer_id:** Unique identifier for each customer (string).\n",
        "\n",
        "- **customer_unique_id:** Another unique identifier, possibly linking customers across multiple records (string).\n",
        "\n",
        "- **customer_zip_code_prefix:** Zip code prefix of the customer (integer).\n",
        "\n",
        "- **customer_city:** Name of the city where the customer resides (string).\n",
        "\n",
        "- **customer_state:** State code of the customer’s location (string).\n",
        "\n",
        "Data preprocessing includes handling missing values, encoding categorical variables, and performing train-test splits to evaluate model performance effectively. Graphical visualizations such as heatmaps and metric comparison plots are used to interpret the results.\n",
        "\n"
      ],
      "metadata": {
        "id": "G5zsNEfzpYwl"
      }
    },
    {
      "cell_type": "markdown",
      "source": [
        "**Week 5 assignment is in continuity with Week 4 Assignment**"
      ],
      "metadata": {
        "id": "dswYCmV_aohA"
      }
    },
    {
      "cell_type": "markdown",
      "source": [
        "#Week 4"
      ],
      "metadata": {
        "id": "IeDBOCFOZ16A"
      }
    },
    {
      "cell_type": "code",
      "execution_count": 1,
      "metadata": {
        "id": "Bx-Y9eWEeujp"
      },
      "outputs": [],
      "source": [
        "# Import necessary libraries\n",
        "import pandas as pd\n",
        "import numpy as np\n",
        "import seaborn as sns\n",
        "import matplotlib.pyplot as plt\n",
        "from sklearn.model_selection import train_test_split\n",
        "from sklearn.preprocessing import LabelEncoder, StandardScaler"
      ]
    },
    {
      "cell_type": "code",
      "source": [
        "# Read the uploaded file\n",
        "df = pd.read_csv('olist_customers_dataset.csv')\n",
        "#Display first 5 data\n",
        "df.head()"
      ],
      "metadata": {
        "colab": {
          "base_uri": "https://localhost:8080/",
          "height": 206
        },
        "id": "duz0Ck9Ufip2",
        "outputId": "651eef97-c56f-4624-c8a8-b60d5213d888"
      },
      "execution_count": 2,
      "outputs": [
        {
          "output_type": "execute_result",
          "data": {
            "text/plain": [
              "                        customer_id                customer_unique_id  \\\n",
              "0  06b8999e2fba1a1fbc88172c00ba8bc7  861eff4711a542e4b93843c6dd7febb0   \n",
              "1  18955e83d337fd6b2def6b18a428ac77  290c77bc529b7ac935b93aa66c333dc3   \n",
              "2  4e7b3e00288586ebd08712fdd0374a03  060e732b5b29e8181a18229c7b0b2b5e   \n",
              "3  b2b6027bc5c5109e529d4dc6358b12c3  259dac757896d24d7702b9acbbff3f3c   \n",
              "4  4f2d8ab171c80ec8364f7c12e35b23ad  345ecd01c38d18a9036ed96c73b8d066   \n",
              "\n",
              "   customer_zip_code_prefix          customer_city customer_state  \n",
              "0                     14409                 franca             SP  \n",
              "1                      9790  sao bernardo do campo             SP  \n",
              "2                      1151              sao paulo             SP  \n",
              "3                      8775        mogi das cruzes             SP  \n",
              "4                     13056               campinas             SP  "
            ],
            "text/html": [
              "\n",
              "  <div id=\"df-439a9d44-7509-48b3-a7e4-4dd7d5bf2ea9\" class=\"colab-df-container\">\n",
              "    <div>\n",
              "<style scoped>\n",
              "    .dataframe tbody tr th:only-of-type {\n",
              "        vertical-align: middle;\n",
              "    }\n",
              "\n",
              "    .dataframe tbody tr th {\n",
              "        vertical-align: top;\n",
              "    }\n",
              "\n",
              "    .dataframe thead th {\n",
              "        text-align: right;\n",
              "    }\n",
              "</style>\n",
              "<table border=\"1\" class=\"dataframe\">\n",
              "  <thead>\n",
              "    <tr style=\"text-align: right;\">\n",
              "      <th></th>\n",
              "      <th>customer_id</th>\n",
              "      <th>customer_unique_id</th>\n",
              "      <th>customer_zip_code_prefix</th>\n",
              "      <th>customer_city</th>\n",
              "      <th>customer_state</th>\n",
              "    </tr>\n",
              "  </thead>\n",
              "  <tbody>\n",
              "    <tr>\n",
              "      <th>0</th>\n",
              "      <td>06b8999e2fba1a1fbc88172c00ba8bc7</td>\n",
              "      <td>861eff4711a542e4b93843c6dd7febb0</td>\n",
              "      <td>14409</td>\n",
              "      <td>franca</td>\n",
              "      <td>SP</td>\n",
              "    </tr>\n",
              "    <tr>\n",
              "      <th>1</th>\n",
              "      <td>18955e83d337fd6b2def6b18a428ac77</td>\n",
              "      <td>290c77bc529b7ac935b93aa66c333dc3</td>\n",
              "      <td>9790</td>\n",
              "      <td>sao bernardo do campo</td>\n",
              "      <td>SP</td>\n",
              "    </tr>\n",
              "    <tr>\n",
              "      <th>2</th>\n",
              "      <td>4e7b3e00288586ebd08712fdd0374a03</td>\n",
              "      <td>060e732b5b29e8181a18229c7b0b2b5e</td>\n",
              "      <td>1151</td>\n",
              "      <td>sao paulo</td>\n",
              "      <td>SP</td>\n",
              "    </tr>\n",
              "    <tr>\n",
              "      <th>3</th>\n",
              "      <td>b2b6027bc5c5109e529d4dc6358b12c3</td>\n",
              "      <td>259dac757896d24d7702b9acbbff3f3c</td>\n",
              "      <td>8775</td>\n",
              "      <td>mogi das cruzes</td>\n",
              "      <td>SP</td>\n",
              "    </tr>\n",
              "    <tr>\n",
              "      <th>4</th>\n",
              "      <td>4f2d8ab171c80ec8364f7c12e35b23ad</td>\n",
              "      <td>345ecd01c38d18a9036ed96c73b8d066</td>\n",
              "      <td>13056</td>\n",
              "      <td>campinas</td>\n",
              "      <td>SP</td>\n",
              "    </tr>\n",
              "  </tbody>\n",
              "</table>\n",
              "</div>\n",
              "    <div class=\"colab-df-buttons\">\n",
              "\n",
              "  <div class=\"colab-df-container\">\n",
              "    <button class=\"colab-df-convert\" onclick=\"convertToInteractive('df-439a9d44-7509-48b3-a7e4-4dd7d5bf2ea9')\"\n",
              "            title=\"Convert this dataframe to an interactive table.\"\n",
              "            style=\"display:none;\">\n",
              "\n",
              "  <svg xmlns=\"http://www.w3.org/2000/svg\" height=\"24px\" viewBox=\"0 -960 960 960\">\n",
              "    <path d=\"M120-120v-720h720v720H120Zm60-500h600v-160H180v160Zm220 220h160v-160H400v160Zm0 220h160v-160H400v160ZM180-400h160v-160H180v160Zm440 0h160v-160H620v160ZM180-180h160v-160H180v160Zm440 0h160v-160H620v160Z\"/>\n",
              "  </svg>\n",
              "    </button>\n",
              "\n",
              "  <style>\n",
              "    .colab-df-container {\n",
              "      display:flex;\n",
              "      gap: 12px;\n",
              "    }\n",
              "\n",
              "    .colab-df-convert {\n",
              "      background-color: #E8F0FE;\n",
              "      border: none;\n",
              "      border-radius: 50%;\n",
              "      cursor: pointer;\n",
              "      display: none;\n",
              "      fill: #1967D2;\n",
              "      height: 32px;\n",
              "      padding: 0 0 0 0;\n",
              "      width: 32px;\n",
              "    }\n",
              "\n",
              "    .colab-df-convert:hover {\n",
              "      background-color: #E2EBFA;\n",
              "      box-shadow: 0px 1px 2px rgba(60, 64, 67, 0.3), 0px 1px 3px 1px rgba(60, 64, 67, 0.15);\n",
              "      fill: #174EA6;\n",
              "    }\n",
              "\n",
              "    .colab-df-buttons div {\n",
              "      margin-bottom: 4px;\n",
              "    }\n",
              "\n",
              "    [theme=dark] .colab-df-convert {\n",
              "      background-color: #3B4455;\n",
              "      fill: #D2E3FC;\n",
              "    }\n",
              "\n",
              "    [theme=dark] .colab-df-convert:hover {\n",
              "      background-color: #434B5C;\n",
              "      box-shadow: 0px 1px 3px 1px rgba(0, 0, 0, 0.15);\n",
              "      filter: drop-shadow(0px 1px 2px rgba(0, 0, 0, 0.3));\n",
              "      fill: #FFFFFF;\n",
              "    }\n",
              "  </style>\n",
              "\n",
              "    <script>\n",
              "      const buttonEl =\n",
              "        document.querySelector('#df-439a9d44-7509-48b3-a7e4-4dd7d5bf2ea9 button.colab-df-convert');\n",
              "      buttonEl.style.display =\n",
              "        google.colab.kernel.accessAllowed ? 'block' : 'none';\n",
              "\n",
              "      async function convertToInteractive(key) {\n",
              "        const element = document.querySelector('#df-439a9d44-7509-48b3-a7e4-4dd7d5bf2ea9');\n",
              "        const dataTable =\n",
              "          await google.colab.kernel.invokeFunction('convertToInteractive',\n",
              "                                                    [key], {});\n",
              "        if (!dataTable) return;\n",
              "\n",
              "        const docLinkHtml = 'Like what you see? Visit the ' +\n",
              "          '<a target=\"_blank\" href=https://colab.research.google.com/notebooks/data_table.ipynb>data table notebook</a>'\n",
              "          + ' to learn more about interactive tables.';\n",
              "        element.innerHTML = '';\n",
              "        dataTable['output_type'] = 'display_data';\n",
              "        await google.colab.output.renderOutput(dataTable, element);\n",
              "        const docLink = document.createElement('div');\n",
              "        docLink.innerHTML = docLinkHtml;\n",
              "        element.appendChild(docLink);\n",
              "      }\n",
              "    </script>\n",
              "  </div>\n",
              "\n",
              "\n",
              "<div id=\"df-902e1667-daa5-4c6f-95e3-bd2d3c11ea6b\">\n",
              "  <button class=\"colab-df-quickchart\" onclick=\"quickchart('df-902e1667-daa5-4c6f-95e3-bd2d3c11ea6b')\"\n",
              "            title=\"Suggest charts\"\n",
              "            style=\"display:none;\">\n",
              "\n",
              "<svg xmlns=\"http://www.w3.org/2000/svg\" height=\"24px\"viewBox=\"0 0 24 24\"\n",
              "     width=\"24px\">\n",
              "    <g>\n",
              "        <path d=\"M19 3H5c-1.1 0-2 .9-2 2v14c0 1.1.9 2 2 2h14c1.1 0 2-.9 2-2V5c0-1.1-.9-2-2-2zM9 17H7v-7h2v7zm4 0h-2V7h2v10zm4 0h-2v-4h2v4z\"/>\n",
              "    </g>\n",
              "</svg>\n",
              "  </button>\n",
              "\n",
              "<style>\n",
              "  .colab-df-quickchart {\n",
              "      --bg-color: #E8F0FE;\n",
              "      --fill-color: #1967D2;\n",
              "      --hover-bg-color: #E2EBFA;\n",
              "      --hover-fill-color: #174EA6;\n",
              "      --disabled-fill-color: #AAA;\n",
              "      --disabled-bg-color: #DDD;\n",
              "  }\n",
              "\n",
              "  [theme=dark] .colab-df-quickchart {\n",
              "      --bg-color: #3B4455;\n",
              "      --fill-color: #D2E3FC;\n",
              "      --hover-bg-color: #434B5C;\n",
              "      --hover-fill-color: #FFFFFF;\n",
              "      --disabled-bg-color: #3B4455;\n",
              "      --disabled-fill-color: #666;\n",
              "  }\n",
              "\n",
              "  .colab-df-quickchart {\n",
              "    background-color: var(--bg-color);\n",
              "    border: none;\n",
              "    border-radius: 50%;\n",
              "    cursor: pointer;\n",
              "    display: none;\n",
              "    fill: var(--fill-color);\n",
              "    height: 32px;\n",
              "    padding: 0;\n",
              "    width: 32px;\n",
              "  }\n",
              "\n",
              "  .colab-df-quickchart:hover {\n",
              "    background-color: var(--hover-bg-color);\n",
              "    box-shadow: 0 1px 2px rgba(60, 64, 67, 0.3), 0 1px 3px 1px rgba(60, 64, 67, 0.15);\n",
              "    fill: var(--button-hover-fill-color);\n",
              "  }\n",
              "\n",
              "  .colab-df-quickchart-complete:disabled,\n",
              "  .colab-df-quickchart-complete:disabled:hover {\n",
              "    background-color: var(--disabled-bg-color);\n",
              "    fill: var(--disabled-fill-color);\n",
              "    box-shadow: none;\n",
              "  }\n",
              "\n",
              "  .colab-df-spinner {\n",
              "    border: 2px solid var(--fill-color);\n",
              "    border-color: transparent;\n",
              "    border-bottom-color: var(--fill-color);\n",
              "    animation:\n",
              "      spin 1s steps(1) infinite;\n",
              "  }\n",
              "\n",
              "  @keyframes spin {\n",
              "    0% {\n",
              "      border-color: transparent;\n",
              "      border-bottom-color: var(--fill-color);\n",
              "      border-left-color: var(--fill-color);\n",
              "    }\n",
              "    20% {\n",
              "      border-color: transparent;\n",
              "      border-left-color: var(--fill-color);\n",
              "      border-top-color: var(--fill-color);\n",
              "    }\n",
              "    30% {\n",
              "      border-color: transparent;\n",
              "      border-left-color: var(--fill-color);\n",
              "      border-top-color: var(--fill-color);\n",
              "      border-right-color: var(--fill-color);\n",
              "    }\n",
              "    40% {\n",
              "      border-color: transparent;\n",
              "      border-right-color: var(--fill-color);\n",
              "      border-top-color: var(--fill-color);\n",
              "    }\n",
              "    60% {\n",
              "      border-color: transparent;\n",
              "      border-right-color: var(--fill-color);\n",
              "    }\n",
              "    80% {\n",
              "      border-color: transparent;\n",
              "      border-right-color: var(--fill-color);\n",
              "      border-bottom-color: var(--fill-color);\n",
              "    }\n",
              "    90% {\n",
              "      border-color: transparent;\n",
              "      border-bottom-color: var(--fill-color);\n",
              "    }\n",
              "  }\n",
              "</style>\n",
              "\n",
              "  <script>\n",
              "    async function quickchart(key) {\n",
              "      const quickchartButtonEl =\n",
              "        document.querySelector('#' + key + ' button');\n",
              "      quickchartButtonEl.disabled = true;  // To prevent multiple clicks.\n",
              "      quickchartButtonEl.classList.add('colab-df-spinner');\n",
              "      try {\n",
              "        const charts = await google.colab.kernel.invokeFunction(\n",
              "            'suggestCharts', [key], {});\n",
              "      } catch (error) {\n",
              "        console.error('Error during call to suggestCharts:', error);\n",
              "      }\n",
              "      quickchartButtonEl.classList.remove('colab-df-spinner');\n",
              "      quickchartButtonEl.classList.add('colab-df-quickchart-complete');\n",
              "    }\n",
              "    (() => {\n",
              "      let quickchartButtonEl =\n",
              "        document.querySelector('#df-902e1667-daa5-4c6f-95e3-bd2d3c11ea6b button');\n",
              "      quickchartButtonEl.style.display =\n",
              "        google.colab.kernel.accessAllowed ? 'block' : 'none';\n",
              "    })();\n",
              "  </script>\n",
              "</div>\n",
              "\n",
              "    </div>\n",
              "  </div>\n"
            ],
            "application/vnd.google.colaboratory.intrinsic+json": {
              "type": "dataframe",
              "variable_name": "df",
              "summary": "{\n  \"name\": \"df\",\n  \"rows\": 99441,\n  \"fields\": [\n    {\n      \"column\": \"customer_id\",\n      \"properties\": {\n        \"dtype\": \"string\",\n        \"num_unique_values\": 99441,\n        \"samples\": [\n          \"c7432c6d237ffd6aa36a007b4237ec38\",\n          \"7f399d641e2e2064470145178c9e8778\",\n          \"ba5642b730704dc0f74b7cf715b41ed5\"\n        ],\n        \"semantic_type\": \"\",\n        \"description\": \"\"\n      }\n    },\n    {\n      \"column\": \"customer_unique_id\",\n      \"properties\": {\n        \"dtype\": \"string\",\n        \"num_unique_values\": 96096,\n        \"samples\": [\n          \"b5d6fa3d2213927296ac893f14f4461c\",\n          \"0520a11c7af8a73b703f1d2e722c7c8a\",\n          \"7a19f3fff09616cbb1cf8fdaa05ae032\"\n        ],\n        \"semantic_type\": \"\",\n        \"description\": \"\"\n      }\n    },\n    {\n      \"column\": \"customer_zip_code_prefix\",\n      \"properties\": {\n        \"dtype\": \"number\",\n        \"std\": 29797,\n        \"min\": 1003,\n        \"max\": 99990,\n        \"num_unique_values\": 14994,\n        \"samples\": [\n          4343,\n          96820,\n          8598\n        ],\n        \"semantic_type\": \"\",\n        \"description\": \"\"\n      }\n    },\n    {\n      \"column\": \"customer_city\",\n      \"properties\": {\n        \"dtype\": \"category\",\n        \"num_unique_values\": 4119,\n        \"samples\": [\n          \"luis antonio\",\n          \"canitar\",\n          \"lagoinha do piaui\"\n        ],\n        \"semantic_type\": \"\",\n        \"description\": \"\"\n      }\n    },\n    {\n      \"column\": \"customer_state\",\n      \"properties\": {\n        \"dtype\": \"category\",\n        \"num_unique_values\": 27,\n        \"samples\": [\n          \"ES\",\n          \"DF\",\n          \"BA\"\n        ],\n        \"semantic_type\": \"\",\n        \"description\": \"\"\n      }\n    }\n  ]\n}"
            }
          },
          "metadata": {},
          "execution_count": 2
        }
      ]
    },
    {
      "cell_type": "markdown",
      "source": [
        "Data Overview"
      ],
      "metadata": {
        "id": "nqjf52FKgbf-"
      }
    },
    {
      "cell_type": "code",
      "source": [
        "df.tail(5)"
      ],
      "metadata": {
        "colab": {
          "base_uri": "https://localhost:8080/",
          "height": 206
        },
        "id": "ZE36Kcnlgfb_",
        "outputId": "c00055cb-aa60-4465-9c11-1e4e90dd32ca"
      },
      "execution_count": 3,
      "outputs": [
        {
          "output_type": "execute_result",
          "data": {
            "text/plain": [
              "                            customer_id                customer_unique_id  \\\n",
              "99436  17ddf5dd5d51696bb3d7c6291687be6f  1a29b476fee25c95fbafc67c5ac95cf8   \n",
              "99437  e7b71a9017aa05c9a7fd292d714858e8  d52a67c98be1cf6a5c84435bd38d095d   \n",
              "99438  5e28dfe12db7fb50a4b2f691faecea5e  e9f50caf99f032f0bf3c55141f019d99   \n",
              "99439  56b18e2166679b8a959d72dd06da27f9  73c2643a0a458b49f58cea58833b192e   \n",
              "99440  274fa6071e5e17fe303b9748641082c8  84732c5050c01db9b23e19ba39899398   \n",
              "\n",
              "       customer_zip_code_prefix    customer_city customer_state  \n",
              "99436                      3937        sao paulo             SP  \n",
              "99437                      6764  taboao da serra             SP  \n",
              "99438                     60115        fortaleza             CE  \n",
              "99439                     92120           canoas             RS  \n",
              "99440                      6703            cotia             SP  "
            ],
            "text/html": [
              "\n",
              "  <div id=\"df-fe0d6758-ff71-4867-91ac-56490485a444\" class=\"colab-df-container\">\n",
              "    <div>\n",
              "<style scoped>\n",
              "    .dataframe tbody tr th:only-of-type {\n",
              "        vertical-align: middle;\n",
              "    }\n",
              "\n",
              "    .dataframe tbody tr th {\n",
              "        vertical-align: top;\n",
              "    }\n",
              "\n",
              "    .dataframe thead th {\n",
              "        text-align: right;\n",
              "    }\n",
              "</style>\n",
              "<table border=\"1\" class=\"dataframe\">\n",
              "  <thead>\n",
              "    <tr style=\"text-align: right;\">\n",
              "      <th></th>\n",
              "      <th>customer_id</th>\n",
              "      <th>customer_unique_id</th>\n",
              "      <th>customer_zip_code_prefix</th>\n",
              "      <th>customer_city</th>\n",
              "      <th>customer_state</th>\n",
              "    </tr>\n",
              "  </thead>\n",
              "  <tbody>\n",
              "    <tr>\n",
              "      <th>99436</th>\n",
              "      <td>17ddf5dd5d51696bb3d7c6291687be6f</td>\n",
              "      <td>1a29b476fee25c95fbafc67c5ac95cf8</td>\n",
              "      <td>3937</td>\n",
              "      <td>sao paulo</td>\n",
              "      <td>SP</td>\n",
              "    </tr>\n",
              "    <tr>\n",
              "      <th>99437</th>\n",
              "      <td>e7b71a9017aa05c9a7fd292d714858e8</td>\n",
              "      <td>d52a67c98be1cf6a5c84435bd38d095d</td>\n",
              "      <td>6764</td>\n",
              "      <td>taboao da serra</td>\n",
              "      <td>SP</td>\n",
              "    </tr>\n",
              "    <tr>\n",
              "      <th>99438</th>\n",
              "      <td>5e28dfe12db7fb50a4b2f691faecea5e</td>\n",
              "      <td>e9f50caf99f032f0bf3c55141f019d99</td>\n",
              "      <td>60115</td>\n",
              "      <td>fortaleza</td>\n",
              "      <td>CE</td>\n",
              "    </tr>\n",
              "    <tr>\n",
              "      <th>99439</th>\n",
              "      <td>56b18e2166679b8a959d72dd06da27f9</td>\n",
              "      <td>73c2643a0a458b49f58cea58833b192e</td>\n",
              "      <td>92120</td>\n",
              "      <td>canoas</td>\n",
              "      <td>RS</td>\n",
              "    </tr>\n",
              "    <tr>\n",
              "      <th>99440</th>\n",
              "      <td>274fa6071e5e17fe303b9748641082c8</td>\n",
              "      <td>84732c5050c01db9b23e19ba39899398</td>\n",
              "      <td>6703</td>\n",
              "      <td>cotia</td>\n",
              "      <td>SP</td>\n",
              "    </tr>\n",
              "  </tbody>\n",
              "</table>\n",
              "</div>\n",
              "    <div class=\"colab-df-buttons\">\n",
              "\n",
              "  <div class=\"colab-df-container\">\n",
              "    <button class=\"colab-df-convert\" onclick=\"convertToInteractive('df-fe0d6758-ff71-4867-91ac-56490485a444')\"\n",
              "            title=\"Convert this dataframe to an interactive table.\"\n",
              "            style=\"display:none;\">\n",
              "\n",
              "  <svg xmlns=\"http://www.w3.org/2000/svg\" height=\"24px\" viewBox=\"0 -960 960 960\">\n",
              "    <path d=\"M120-120v-720h720v720H120Zm60-500h600v-160H180v160Zm220 220h160v-160H400v160Zm0 220h160v-160H400v160ZM180-400h160v-160H180v160Zm440 0h160v-160H620v160ZM180-180h160v-160H180v160Zm440 0h160v-160H620v160Z\"/>\n",
              "  </svg>\n",
              "    </button>\n",
              "\n",
              "  <style>\n",
              "    .colab-df-container {\n",
              "      display:flex;\n",
              "      gap: 12px;\n",
              "    }\n",
              "\n",
              "    .colab-df-convert {\n",
              "      background-color: #E8F0FE;\n",
              "      border: none;\n",
              "      border-radius: 50%;\n",
              "      cursor: pointer;\n",
              "      display: none;\n",
              "      fill: #1967D2;\n",
              "      height: 32px;\n",
              "      padding: 0 0 0 0;\n",
              "      width: 32px;\n",
              "    }\n",
              "\n",
              "    .colab-df-convert:hover {\n",
              "      background-color: #E2EBFA;\n",
              "      box-shadow: 0px 1px 2px rgba(60, 64, 67, 0.3), 0px 1px 3px 1px rgba(60, 64, 67, 0.15);\n",
              "      fill: #174EA6;\n",
              "    }\n",
              "\n",
              "    .colab-df-buttons div {\n",
              "      margin-bottom: 4px;\n",
              "    }\n",
              "\n",
              "    [theme=dark] .colab-df-convert {\n",
              "      background-color: #3B4455;\n",
              "      fill: #D2E3FC;\n",
              "    }\n",
              "\n",
              "    [theme=dark] .colab-df-convert:hover {\n",
              "      background-color: #434B5C;\n",
              "      box-shadow: 0px 1px 3px 1px rgba(0, 0, 0, 0.15);\n",
              "      filter: drop-shadow(0px 1px 2px rgba(0, 0, 0, 0.3));\n",
              "      fill: #FFFFFF;\n",
              "    }\n",
              "  </style>\n",
              "\n",
              "    <script>\n",
              "      const buttonEl =\n",
              "        document.querySelector('#df-fe0d6758-ff71-4867-91ac-56490485a444 button.colab-df-convert');\n",
              "      buttonEl.style.display =\n",
              "        google.colab.kernel.accessAllowed ? 'block' : 'none';\n",
              "\n",
              "      async function convertToInteractive(key) {\n",
              "        const element = document.querySelector('#df-fe0d6758-ff71-4867-91ac-56490485a444');\n",
              "        const dataTable =\n",
              "          await google.colab.kernel.invokeFunction('convertToInteractive',\n",
              "                                                    [key], {});\n",
              "        if (!dataTable) return;\n",
              "\n",
              "        const docLinkHtml = 'Like what you see? Visit the ' +\n",
              "          '<a target=\"_blank\" href=https://colab.research.google.com/notebooks/data_table.ipynb>data table notebook</a>'\n",
              "          + ' to learn more about interactive tables.';\n",
              "        element.innerHTML = '';\n",
              "        dataTable['output_type'] = 'display_data';\n",
              "        await google.colab.output.renderOutput(dataTable, element);\n",
              "        const docLink = document.createElement('div');\n",
              "        docLink.innerHTML = docLinkHtml;\n",
              "        element.appendChild(docLink);\n",
              "      }\n",
              "    </script>\n",
              "  </div>\n",
              "\n",
              "\n",
              "<div id=\"df-6de05014-92b9-4591-810c-9d73d8f601b8\">\n",
              "  <button class=\"colab-df-quickchart\" onclick=\"quickchart('df-6de05014-92b9-4591-810c-9d73d8f601b8')\"\n",
              "            title=\"Suggest charts\"\n",
              "            style=\"display:none;\">\n",
              "\n",
              "<svg xmlns=\"http://www.w3.org/2000/svg\" height=\"24px\"viewBox=\"0 0 24 24\"\n",
              "     width=\"24px\">\n",
              "    <g>\n",
              "        <path d=\"M19 3H5c-1.1 0-2 .9-2 2v14c0 1.1.9 2 2 2h14c1.1 0 2-.9 2-2V5c0-1.1-.9-2-2-2zM9 17H7v-7h2v7zm4 0h-2V7h2v10zm4 0h-2v-4h2v4z\"/>\n",
              "    </g>\n",
              "</svg>\n",
              "  </button>\n",
              "\n",
              "<style>\n",
              "  .colab-df-quickchart {\n",
              "      --bg-color: #E8F0FE;\n",
              "      --fill-color: #1967D2;\n",
              "      --hover-bg-color: #E2EBFA;\n",
              "      --hover-fill-color: #174EA6;\n",
              "      --disabled-fill-color: #AAA;\n",
              "      --disabled-bg-color: #DDD;\n",
              "  }\n",
              "\n",
              "  [theme=dark] .colab-df-quickchart {\n",
              "      --bg-color: #3B4455;\n",
              "      --fill-color: #D2E3FC;\n",
              "      --hover-bg-color: #434B5C;\n",
              "      --hover-fill-color: #FFFFFF;\n",
              "      --disabled-bg-color: #3B4455;\n",
              "      --disabled-fill-color: #666;\n",
              "  }\n",
              "\n",
              "  .colab-df-quickchart {\n",
              "    background-color: var(--bg-color);\n",
              "    border: none;\n",
              "    border-radius: 50%;\n",
              "    cursor: pointer;\n",
              "    display: none;\n",
              "    fill: var(--fill-color);\n",
              "    height: 32px;\n",
              "    padding: 0;\n",
              "    width: 32px;\n",
              "  }\n",
              "\n",
              "  .colab-df-quickchart:hover {\n",
              "    background-color: var(--hover-bg-color);\n",
              "    box-shadow: 0 1px 2px rgba(60, 64, 67, 0.3), 0 1px 3px 1px rgba(60, 64, 67, 0.15);\n",
              "    fill: var(--button-hover-fill-color);\n",
              "  }\n",
              "\n",
              "  .colab-df-quickchart-complete:disabled,\n",
              "  .colab-df-quickchart-complete:disabled:hover {\n",
              "    background-color: var(--disabled-bg-color);\n",
              "    fill: var(--disabled-fill-color);\n",
              "    box-shadow: none;\n",
              "  }\n",
              "\n",
              "  .colab-df-spinner {\n",
              "    border: 2px solid var(--fill-color);\n",
              "    border-color: transparent;\n",
              "    border-bottom-color: var(--fill-color);\n",
              "    animation:\n",
              "      spin 1s steps(1) infinite;\n",
              "  }\n",
              "\n",
              "  @keyframes spin {\n",
              "    0% {\n",
              "      border-color: transparent;\n",
              "      border-bottom-color: var(--fill-color);\n",
              "      border-left-color: var(--fill-color);\n",
              "    }\n",
              "    20% {\n",
              "      border-color: transparent;\n",
              "      border-left-color: var(--fill-color);\n",
              "      border-top-color: var(--fill-color);\n",
              "    }\n",
              "    30% {\n",
              "      border-color: transparent;\n",
              "      border-left-color: var(--fill-color);\n",
              "      border-top-color: var(--fill-color);\n",
              "      border-right-color: var(--fill-color);\n",
              "    }\n",
              "    40% {\n",
              "      border-color: transparent;\n",
              "      border-right-color: var(--fill-color);\n",
              "      border-top-color: var(--fill-color);\n",
              "    }\n",
              "    60% {\n",
              "      border-color: transparent;\n",
              "      border-right-color: var(--fill-color);\n",
              "    }\n",
              "    80% {\n",
              "      border-color: transparent;\n",
              "      border-right-color: var(--fill-color);\n",
              "      border-bottom-color: var(--fill-color);\n",
              "    }\n",
              "    90% {\n",
              "      border-color: transparent;\n",
              "      border-bottom-color: var(--fill-color);\n",
              "    }\n",
              "  }\n",
              "</style>\n",
              "\n",
              "  <script>\n",
              "    async function quickchart(key) {\n",
              "      const quickchartButtonEl =\n",
              "        document.querySelector('#' + key + ' button');\n",
              "      quickchartButtonEl.disabled = true;  // To prevent multiple clicks.\n",
              "      quickchartButtonEl.classList.add('colab-df-spinner');\n",
              "      try {\n",
              "        const charts = await google.colab.kernel.invokeFunction(\n",
              "            'suggestCharts', [key], {});\n",
              "      } catch (error) {\n",
              "        console.error('Error during call to suggestCharts:', error);\n",
              "      }\n",
              "      quickchartButtonEl.classList.remove('colab-df-spinner');\n",
              "      quickchartButtonEl.classList.add('colab-df-quickchart-complete');\n",
              "    }\n",
              "    (() => {\n",
              "      let quickchartButtonEl =\n",
              "        document.querySelector('#df-6de05014-92b9-4591-810c-9d73d8f601b8 button');\n",
              "      quickchartButtonEl.style.display =\n",
              "        google.colab.kernel.accessAllowed ? 'block' : 'none';\n",
              "    })();\n",
              "  </script>\n",
              "</div>\n",
              "\n",
              "    </div>\n",
              "  </div>\n"
            ],
            "application/vnd.google.colaboratory.intrinsic+json": {
              "type": "dataframe",
              "summary": "{\n  \"name\": \"df\",\n  \"rows\": 5,\n  \"fields\": [\n    {\n      \"column\": \"customer_id\",\n      \"properties\": {\n        \"dtype\": \"string\",\n        \"num_unique_values\": 5,\n        \"samples\": [\n          \"e7b71a9017aa05c9a7fd292d714858e8\",\n          \"274fa6071e5e17fe303b9748641082c8\",\n          \"5e28dfe12db7fb50a4b2f691faecea5e\"\n        ],\n        \"semantic_type\": \"\",\n        \"description\": \"\"\n      }\n    },\n    {\n      \"column\": \"customer_unique_id\",\n      \"properties\": {\n        \"dtype\": \"string\",\n        \"num_unique_values\": 5,\n        \"samples\": [\n          \"d52a67c98be1cf6a5c84435bd38d095d\",\n          \"84732c5050c01db9b23e19ba39899398\",\n          \"e9f50caf99f032f0bf3c55141f019d99\"\n        ],\n        \"semantic_type\": \"\",\n        \"description\": \"\"\n      }\n    },\n    {\n      \"column\": \"customer_zip_code_prefix\",\n      \"properties\": {\n        \"dtype\": \"number\",\n        \"std\": 40157,\n        \"min\": 3937,\n        \"max\": 92120,\n        \"num_unique_values\": 5,\n        \"samples\": [\n          6764,\n          6703,\n          60115\n        ],\n        \"semantic_type\": \"\",\n        \"description\": \"\"\n      }\n    },\n    {\n      \"column\": \"customer_city\",\n      \"properties\": {\n        \"dtype\": \"string\",\n        \"num_unique_values\": 5,\n        \"samples\": [\n          \"taboao da serra\",\n          \"cotia\",\n          \"fortaleza\"\n        ],\n        \"semantic_type\": \"\",\n        \"description\": \"\"\n      }\n    },\n    {\n      \"column\": \"customer_state\",\n      \"properties\": {\n        \"dtype\": \"string\",\n        \"num_unique_values\": 3,\n        \"samples\": [\n          \"SP\",\n          \"CE\",\n          \"RS\"\n        ],\n        \"semantic_type\": \"\",\n        \"description\": \"\"\n      }\n    }\n  ]\n}"
            }
          },
          "metadata": {},
          "execution_count": 3
        }
      ]
    },
    {
      "cell_type": "code",
      "source": [
        "#Name the columns\n",
        "df.columns"
      ],
      "metadata": {
        "colab": {
          "base_uri": "https://localhost:8080/"
        },
        "id": "GvSloDGMgn42",
        "outputId": "48d41984-4bcf-4f42-bff2-a41b3d77b5c9"
      },
      "execution_count": 4,
      "outputs": [
        {
          "output_type": "execute_result",
          "data": {
            "text/plain": [
              "Index(['customer_id', 'customer_unique_id', 'customer_zip_code_prefix',\n",
              "       'customer_city', 'customer_state'],\n",
              "      dtype='object')"
            ]
          },
          "metadata": {},
          "execution_count": 4
        }
      ]
    },
    {
      "cell_type": "code",
      "source": [
        "# Basic info of the dataset\n",
        "df.info()"
      ],
      "metadata": {
        "colab": {
          "base_uri": "https://localhost:8080/"
        },
        "id": "mUh6YCaBgvhj",
        "outputId": "f16c88f2-6a01-4635-cde7-7efdcc2876c5"
      },
      "execution_count": 5,
      "outputs": [
        {
          "output_type": "stream",
          "name": "stdout",
          "text": [
            "<class 'pandas.core.frame.DataFrame'>\n",
            "RangeIndex: 99441 entries, 0 to 99440\n",
            "Data columns (total 5 columns):\n",
            " #   Column                    Non-Null Count  Dtype \n",
            "---  ------                    --------------  ----- \n",
            " 0   customer_id               99441 non-null  object\n",
            " 1   customer_unique_id        99441 non-null  object\n",
            " 2   customer_zip_code_prefix  99441 non-null  int64 \n",
            " 3   customer_city             99441 non-null  object\n",
            " 4   customer_state            99441 non-null  object\n",
            "dtypes: int64(1), object(4)\n",
            "memory usage: 3.8+ MB\n"
          ]
        }
      ]
    },
    {
      "cell_type": "code",
      "source": [
        "# Shape of the data\n",
        "df.shape"
      ],
      "metadata": {
        "colab": {
          "base_uri": "https://localhost:8080/"
        },
        "id": "Qifcp7fZg1xJ",
        "outputId": "7a59d4b0-5e1d-4829-b5df-0f08abac5f97"
      },
      "execution_count": 6,
      "outputs": [
        {
          "output_type": "execute_result",
          "data": {
            "text/plain": [
              "(99441, 5)"
            ]
          },
          "metadata": {},
          "execution_count": 6
        }
      ]
    },
    {
      "cell_type": "code",
      "source": [
        "# Summarize the basic statistics of data\n",
        "df.describe().T\n",
        "#describe function is only use for numerical data\n",
        "#T represents Transpose"
      ],
      "metadata": {
        "colab": {
          "base_uri": "https://localhost:8080/",
          "height": 81
        },
        "id": "GUo10gFJg7yY",
        "outputId": "ae752792-f173-4eaa-ee51-a1b9145ec601"
      },
      "execution_count": 7,
      "outputs": [
        {
          "output_type": "execute_result",
          "data": {
            "text/plain": [
              "                            count          mean           std     min  \\\n",
              "customer_zip_code_prefix  99441.0  35137.474583  29797.938996  1003.0   \n",
              "\n",
              "                              25%      50%      75%      max  \n",
              "customer_zip_code_prefix  11347.0  24416.0  58900.0  99990.0  "
            ],
            "text/html": [
              "\n",
              "  <div id=\"df-76faa33d-6d19-4a07-8107-798833f409ec\" class=\"colab-df-container\">\n",
              "    <div>\n",
              "<style scoped>\n",
              "    .dataframe tbody tr th:only-of-type {\n",
              "        vertical-align: middle;\n",
              "    }\n",
              "\n",
              "    .dataframe tbody tr th {\n",
              "        vertical-align: top;\n",
              "    }\n",
              "\n",
              "    .dataframe thead th {\n",
              "        text-align: right;\n",
              "    }\n",
              "</style>\n",
              "<table border=\"1\" class=\"dataframe\">\n",
              "  <thead>\n",
              "    <tr style=\"text-align: right;\">\n",
              "      <th></th>\n",
              "      <th>count</th>\n",
              "      <th>mean</th>\n",
              "      <th>std</th>\n",
              "      <th>min</th>\n",
              "      <th>25%</th>\n",
              "      <th>50%</th>\n",
              "      <th>75%</th>\n",
              "      <th>max</th>\n",
              "    </tr>\n",
              "  </thead>\n",
              "  <tbody>\n",
              "    <tr>\n",
              "      <th>customer_zip_code_prefix</th>\n",
              "      <td>99441.0</td>\n",
              "      <td>35137.474583</td>\n",
              "      <td>29797.938996</td>\n",
              "      <td>1003.0</td>\n",
              "      <td>11347.0</td>\n",
              "      <td>24416.0</td>\n",
              "      <td>58900.0</td>\n",
              "      <td>99990.0</td>\n",
              "    </tr>\n",
              "  </tbody>\n",
              "</table>\n",
              "</div>\n",
              "    <div class=\"colab-df-buttons\">\n",
              "\n",
              "  <div class=\"colab-df-container\">\n",
              "    <button class=\"colab-df-convert\" onclick=\"convertToInteractive('df-76faa33d-6d19-4a07-8107-798833f409ec')\"\n",
              "            title=\"Convert this dataframe to an interactive table.\"\n",
              "            style=\"display:none;\">\n",
              "\n",
              "  <svg xmlns=\"http://www.w3.org/2000/svg\" height=\"24px\" viewBox=\"0 -960 960 960\">\n",
              "    <path d=\"M120-120v-720h720v720H120Zm60-500h600v-160H180v160Zm220 220h160v-160H400v160Zm0 220h160v-160H400v160ZM180-400h160v-160H180v160Zm440 0h160v-160H620v160ZM180-180h160v-160H180v160Zm440 0h160v-160H620v160Z\"/>\n",
              "  </svg>\n",
              "    </button>\n",
              "\n",
              "  <style>\n",
              "    .colab-df-container {\n",
              "      display:flex;\n",
              "      gap: 12px;\n",
              "    }\n",
              "\n",
              "    .colab-df-convert {\n",
              "      background-color: #E8F0FE;\n",
              "      border: none;\n",
              "      border-radius: 50%;\n",
              "      cursor: pointer;\n",
              "      display: none;\n",
              "      fill: #1967D2;\n",
              "      height: 32px;\n",
              "      padding: 0 0 0 0;\n",
              "      width: 32px;\n",
              "    }\n",
              "\n",
              "    .colab-df-convert:hover {\n",
              "      background-color: #E2EBFA;\n",
              "      box-shadow: 0px 1px 2px rgba(60, 64, 67, 0.3), 0px 1px 3px 1px rgba(60, 64, 67, 0.15);\n",
              "      fill: #174EA6;\n",
              "    }\n",
              "\n",
              "    .colab-df-buttons div {\n",
              "      margin-bottom: 4px;\n",
              "    }\n",
              "\n",
              "    [theme=dark] .colab-df-convert {\n",
              "      background-color: #3B4455;\n",
              "      fill: #D2E3FC;\n",
              "    }\n",
              "\n",
              "    [theme=dark] .colab-df-convert:hover {\n",
              "      background-color: #434B5C;\n",
              "      box-shadow: 0px 1px 3px 1px rgba(0, 0, 0, 0.15);\n",
              "      filter: drop-shadow(0px 1px 2px rgba(0, 0, 0, 0.3));\n",
              "      fill: #FFFFFF;\n",
              "    }\n",
              "  </style>\n",
              "\n",
              "    <script>\n",
              "      const buttonEl =\n",
              "        document.querySelector('#df-76faa33d-6d19-4a07-8107-798833f409ec button.colab-df-convert');\n",
              "      buttonEl.style.display =\n",
              "        google.colab.kernel.accessAllowed ? 'block' : 'none';\n",
              "\n",
              "      async function convertToInteractive(key) {\n",
              "        const element = document.querySelector('#df-76faa33d-6d19-4a07-8107-798833f409ec');\n",
              "        const dataTable =\n",
              "          await google.colab.kernel.invokeFunction('convertToInteractive',\n",
              "                                                    [key], {});\n",
              "        if (!dataTable) return;\n",
              "\n",
              "        const docLinkHtml = 'Like what you see? Visit the ' +\n",
              "          '<a target=\"_blank\" href=https://colab.research.google.com/notebooks/data_table.ipynb>data table notebook</a>'\n",
              "          + ' to learn more about interactive tables.';\n",
              "        element.innerHTML = '';\n",
              "        dataTable['output_type'] = 'display_data';\n",
              "        await google.colab.output.renderOutput(dataTable, element);\n",
              "        const docLink = document.createElement('div');\n",
              "        docLink.innerHTML = docLinkHtml;\n",
              "        element.appendChild(docLink);\n",
              "      }\n",
              "    </script>\n",
              "  </div>\n",
              "\n",
              "\n",
              "    </div>\n",
              "  </div>\n"
            ],
            "application/vnd.google.colaboratory.intrinsic+json": {
              "type": "dataframe",
              "summary": "{\n  \"name\": \"#T represents Transpose\",\n  \"rows\": 1,\n  \"fields\": [\n    {\n      \"column\": \"count\",\n      \"properties\": {\n        \"dtype\": \"number\",\n        \"std\": null,\n        \"min\": 99441.0,\n        \"max\": 99441.0,\n        \"num_unique_values\": 1,\n        \"samples\": [\n          99441.0\n        ],\n        \"semantic_type\": \"\",\n        \"description\": \"\"\n      }\n    },\n    {\n      \"column\": \"mean\",\n      \"properties\": {\n        \"dtype\": \"number\",\n        \"std\": null,\n        \"min\": 35137.47458291851,\n        \"max\": 35137.47458291851,\n        \"num_unique_values\": 1,\n        \"samples\": [\n          35137.47458291851\n        ],\n        \"semantic_type\": \"\",\n        \"description\": \"\"\n      }\n    },\n    {\n      \"column\": \"std\",\n      \"properties\": {\n        \"dtype\": \"number\",\n        \"std\": null,\n        \"min\": 29797.93899620654,\n        \"max\": 29797.93899620654,\n        \"num_unique_values\": 1,\n        \"samples\": [\n          29797.93899620654\n        ],\n        \"semantic_type\": \"\",\n        \"description\": \"\"\n      }\n    },\n    {\n      \"column\": \"min\",\n      \"properties\": {\n        \"dtype\": \"number\",\n        \"std\": null,\n        \"min\": 1003.0,\n        \"max\": 1003.0,\n        \"num_unique_values\": 1,\n        \"samples\": [\n          1003.0\n        ],\n        \"semantic_type\": \"\",\n        \"description\": \"\"\n      }\n    },\n    {\n      \"column\": \"25%\",\n      \"properties\": {\n        \"dtype\": \"number\",\n        \"std\": null,\n        \"min\": 11347.0,\n        \"max\": 11347.0,\n        \"num_unique_values\": 1,\n        \"samples\": [\n          11347.0\n        ],\n        \"semantic_type\": \"\",\n        \"description\": \"\"\n      }\n    },\n    {\n      \"column\": \"50%\",\n      \"properties\": {\n        \"dtype\": \"number\",\n        \"std\": null,\n        \"min\": 24416.0,\n        \"max\": 24416.0,\n        \"num_unique_values\": 1,\n        \"samples\": [\n          24416.0\n        ],\n        \"semantic_type\": \"\",\n        \"description\": \"\"\n      }\n    },\n    {\n      \"column\": \"75%\",\n      \"properties\": {\n        \"dtype\": \"number\",\n        \"std\": null,\n        \"min\": 58900.0,\n        \"max\": 58900.0,\n        \"num_unique_values\": 1,\n        \"samples\": [\n          58900.0\n        ],\n        \"semantic_type\": \"\",\n        \"description\": \"\"\n      }\n    },\n    {\n      \"column\": \"max\",\n      \"properties\": {\n        \"dtype\": \"number\",\n        \"std\": null,\n        \"min\": 99990.0,\n        \"max\": 99990.0,\n        \"num_unique_values\": 1,\n        \"samples\": [\n          99990.0\n        ],\n        \"semantic_type\": \"\",\n        \"description\": \"\"\n      }\n    }\n  ]\n}"
            }
          },
          "metadata": {},
          "execution_count": 7
        }
      ]
    },
    {
      "cell_type": "markdown",
      "source": [
        "Data cleaning"
      ],
      "metadata": {
        "id": "gmoL7h3Bkf2B"
      }
    },
    {
      "cell_type": "code",
      "source": [
        "# 1. Handling Null Values\n",
        "print(\"Null values before cleaning:\")\n",
        "print(df.isnull().sum())\n",
        "\n",
        "# Drop rows with any null values (if applicable)\n",
        "df = df.dropna()\n",
        "\n",
        "# 2. Handling Duplicates\n",
        "df = df.drop_duplicates(subset=['customer_unique_id'])\n",
        "\n",
        "# 3. Handling Outliers (if any numerical columns are present)\n",
        "# Identify outliers using IQR\n",
        "def remove_outliers(df, column):\n",
        "    # Check if the column exists before processing\n",
        "    if column not in df.columns:\n",
        "        print(f\"Warning: Column '{column}' not found in DataFrame. Skipping outlier removal.\")\n",
        "        return df  # Return the DataFrame as is\n",
        "\n",
        "    Q1 = df[column].quantile(0.25)\n",
        "    Q3 = df[column].quantile(0.75)\n",
        "    IQR = Q3 - Q1\n",
        "    lower_bound = Q1 - 1.5 * IQR\n",
        "    upper_bound = Q3 + 1.5 * IQR\n",
        "    return df[(df[column] >= lower_bound) & (df[column] <= upper_bound)]\n",
        "\n",
        "# Removing outliers from 'customer_zip_code_prefix'\n",
        "df = remove_outliers(df, 'customer_zip_code_prefix')"
      ],
      "metadata": {
        "colab": {
          "base_uri": "https://localhost:8080/"
        },
        "id": "43j8EOIcklYx",
        "outputId": "ea571da6-ebfa-4afd-ac30-ff306e9a9a88"
      },
      "execution_count": 8,
      "outputs": [
        {
          "output_type": "stream",
          "name": "stdout",
          "text": [
            "Null values before cleaning:\n",
            "customer_id                 0\n",
            "customer_unique_id          0\n",
            "customer_zip_code_prefix    0\n",
            "customer_city               0\n",
            "customer_state              0\n",
            "dtype: int64\n"
          ]
        }
      ]
    },
    {
      "cell_type": "markdown",
      "source": [
        "**Feature Engineering**"
      ],
      "metadata": {
        "id": "z_57lxtYkqP8"
      }
    },
    {
      "cell_type": "code",
      "source": [
        "# Transforming Categorical Variables into Numerical\n",
        "label_encoder = LabelEncoder()\n",
        "df['customer_city_encoded'] = label_encoder.fit_transform(df['customer_city'])\n",
        "df['customer_state_encoded'] = label_encoder.fit_transform(df['customer_state'])\n",
        "\n",
        "# Drop original categorical columns\n",
        "df = df.drop(['customer_id', 'customer_unique_id', 'customer_city', 'customer_state'], axis=1)\n",
        "\n",
        "# Data Scaling\n",
        "scaler = StandardScaler()\n",
        "df['customer_zip_code_prefix'] = scaler.fit_transform(df[['customer_zip_code_prefix']])"
      ],
      "metadata": {
        "id": "4Spaxq4altS4"
      },
      "execution_count": 9,
      "outputs": []
    },
    {
      "cell_type": "markdown",
      "source": [
        "**Train-Test Split**"
      ],
      "metadata": {
        "id": "5w6Q-QXTx0eN"
      }
    },
    {
      "cell_type": "code",
      "source": [
        "# Train-Test Split\n",
        "X = df.drop(columns=['customer_zip_code_prefix'])\n",
        "y = df['customer_zip_code_prefix']\n",
        "\n",
        "X_train, X_test, y_train, y_test = train_test_split(X, y, test_size=0.2, random_state=42)\n",
        "\n",
        "print(\"Training Set Shape:\", X_train.shape)\n",
        "print(\"Test Set Shape:\", X_test.shape)"
      ],
      "metadata": {
        "colab": {
          "base_uri": "https://localhost:8080/"
        },
        "id": "VIu3lMvAl4tL",
        "outputId": "ac31533c-6b66-4c69-b57d-04072e7803ad"
      },
      "execution_count": 10,
      "outputs": [
        {
          "output_type": "stream",
          "name": "stdout",
          "text": [
            "Training Set Shape: (76876, 2)\n",
            "Test Set Shape: (19220, 2)\n"
          ]
        }
      ]
    },
    {
      "cell_type": "markdown",
      "source": [
        "**Data Visualization**"
      ],
      "metadata": {
        "id": "-6V2WVVxmKwc"
      }
    },
    {
      "cell_type": "code",
      "source": [
        "# Customer distribution by state\n",
        "plt.figure(figsize=(12, 6))\n",
        "sns.countplot(x='customer_state_encoded', data=df, palette=\"viridis\")\n",
        "plt.title(\"Customer Distribution by State (Encoded)\")\n",
        "plt.xlabel(\"State (Encoded)\")\n",
        "plt.ylabel(\"Number of Customers\")\n",
        "plt.show()"
      ],
      "metadata": {
        "colab": {
          "base_uri": "https://localhost:8080/",
          "height": 651
        },
        "id": "IYaDyaGrl4qr",
        "outputId": "b891ab3f-7435-4722-ff6f-a739ad9a4aca"
      },
      "execution_count": 11,
      "outputs": [
        {
          "output_type": "stream",
          "name": "stderr",
          "text": [
            "<ipython-input-11-228847e0aad0>:3: FutureWarning: \n",
            "\n",
            "Passing `palette` without assigning `hue` is deprecated and will be removed in v0.14.0. Assign the `x` variable to `hue` and set `legend=False` for the same effect.\n",
            "\n",
            "  sns.countplot(x='customer_state_encoded', data=df, palette=\"viridis\")\n"
          ]
        },
        {
          "output_type": "display_data",
          "data": {
            "text/plain": [
              "<Figure size 1200x600 with 1 Axes>"
            ],
            "image/png": "[encoded data removed]"
          },
          "metadata": {}
        }
      ]
    },
    {
      "cell_type": "markdown",
      "source": [
        "**Interpretation**\n",
        "- The bar chart shows the distribution of customers across different states within the dataset.\n",
        "\n",
        "- It displays the count of customers categorized by their encoded state values.\n",
        "\n",
        "- From the visualization, it is possible to observe which states have the highest or lowest number of customers, highlighting regional variations in customer distribution.\n",
        "\n",
        "- The chart helps identify dominant states with a significant customer base, which can be useful for strategic business planning and targeted marketing.\n",
        "\n",
        "- The x-axis represents the encoded state values, while the y-axis shows the number of customers in each state.\n",
        "\n",
        "- This visualization provides insights into geographic trends and customer concentration, aiding in understanding regional market dynamics and customer behavior."
      ],
      "metadata": {
        "id": "gW_kWMqRrk20"
      }
    },
    {
      "cell_type": "code",
      "source": [
        "# Top 20 cities by number of customers\n",
        "plt.figure(figsize=(12, 6))\n",
        "top_cities = df['customer_city_encoded'].value_counts().head(20)\n",
        "sns.barplot(x=top_cities.index, y=top_cities.values, palette=\"magma\")\n",
        "plt.title(\"Top 20 Cities by Number of Customers (Encoded)\")\n",
        "plt.xlabel(\"City (Encoded)\")\n",
        "plt.ylabel(\"Number of Customers\")\n",
        "plt.show()"
      ],
      "metadata": {
        "colab": {
          "base_uri": "https://localhost:8080/",
          "height": 651
        },
        "id": "Nen8xzjml4n-",
        "outputId": "417996d4-2399-42e8-c923-f3067dcc45af"
      },
      "execution_count": 12,
      "outputs": [
        {
          "output_type": "stream",
          "name": "stderr",
          "text": [
            "<ipython-input-12-c5421255281f>:4: FutureWarning: \n",
            "\n",
            "Passing `palette` without assigning `hue` is deprecated and will be removed in v0.14.0. Assign the `x` variable to `hue` and set `legend=False` for the same effect.\n",
            "\n",
            "  sns.barplot(x=top_cities.index, y=top_cities.values, palette=\"magma\")\n"
          ]
        },
        {
          "output_type": "display_data",
          "data": {
            "text/plain": [
              "<Figure size 1200x600 with 1 Axes>"
            ],
            "image/png": "[encoded data removed]"
          },
          "metadata": {}
        }
      ]
    },
    {
      "cell_type": "markdown",
      "source": [
        "**Interpretation**\n",
        "- The bar chart shows the top 20 cities (encoded) by the number of customers within the dataset.\n",
        "\n",
        "- It displays the count of customers for each of the top 20 cities after encoding city names into numerical values.\n",
        "\n",
        "- From the visualization, it is possible to identify which cities have the highest number of customers, highlighting the most significant urban areas served by the platform.\n",
        "\n",
        "- The chart helps in understanding customer concentration across various cities, giving insights into regional demand and customer distribution.\n",
        "\n",
        "- The x-axis represents the encoded city values, while the y-axis shows the count of customers in each city.\n",
        "\n",
        "- This visualization is useful for identifying high-demand regions and guiding targeted marketing strategies or logistical planning."
      ],
      "metadata": {
        "id": "wYgQhFXisYeR"
      }
    },
    {
      "cell_type": "code",
      "source": [
        "# Zip code distribution after scaling\n",
        "plt.figure(figsize=(12, 6))\n",
        "sns.histplot(df['customer_zip_code_prefix'], bins=50, kde=True, color='blue')\n",
        "plt.title(\"Distribution of Scaled Zip Code Prefixes\")\n",
        "plt.xlabel(\"Scaled Zip Code Prefix\")\n",
        "plt.ylabel(\"Frequency\")\n",
        "plt.show()"
      ],
      "metadata": {
        "colab": {
          "base_uri": "https://localhost:8080/",
          "height": 564
        },
        "id": "RTILXCYjl4lc",
        "outputId": "14b665cf-3104-4dd3-faaf-5b9fbc8be956"
      },
      "execution_count": 13,
      "outputs": [
        {
          "output_type": "display_data",
          "data": {
            "text/plain": [
              "<Figure size 1200x600 with 1 Axes>"
            ],
            "image/png": "[encoded data removed]"
          },
          "metadata": {}
        }
      ]
    },
    {
      "cell_type": "markdown",
      "source": [
        "**Interpretation**\n",
        "- The histogram shows the distribution of scaled zip code prefixes within the customer dataset.\n",
        "\n",
        "- It displays the frequency of customers categorized by their scaled zip code prefixes, providing insight into how customer locations are distributed geographically.\n",
        "\n",
        "- From the visualization, it is possible to observe the concentration of customers in certain zip code ranges, indicating areas with higher customer density.\n",
        "\n",
        "- The chart highlights any skewness or clustering in the distribution, helping to understand whether customer locations are evenly spread or concentrated in specific regions.\n",
        "\n",
        "- This information can be useful for geographic and demographic analysis, as well as for optimizing delivery logistics and regional marketing strategies.\n",
        "\n",
        "- The x-axis represents the scaled zip code prefixes, while the y-axis shows the frequency of customers in each zip code range.\n",
        "\n",
        "- This visualization helps identify densely populated regions and potential geographic clusters within the dataset, providing valuable insights for business planning and decision-making."
      ],
      "metadata": {
        "id": "_PQIGLPnsxl9"
      }
    },
    {
      "cell_type": "code",
      "source": [
        "# Correlation heatmap\n",
        "plt.figure(figsize=(12, 6))\n",
        "sns.heatmap(X.corr(), annot=True, cmap='coolwarm')\n",
        "plt.title('Correlation Heatmap')\n",
        "plt.show()"
      ],
      "metadata": {
        "colab": {
          "base_uri": "https://localhost:8080/",
          "height": 545
        },
        "id": "5k1RyTWgn2RZ",
        "outputId": "a6588f1f-ac0d-4bd4-8e9c-5879f0997e08"
      },
      "execution_count": 14,
      "outputs": [
        {
          "output_type": "display_data",
          "data": {
            "text/plain": [
              "<Figure size 1200x600 with 2 Axes>"
            ],
            "image/png": "[encoded data removed]"
          },
          "metadata": {}
        }
      ]
    },
    {
      "cell_type": "markdown",
      "source": [
        "**Interpretation**\n",
        "- The heatmap shows the correlation between numerical features within the customer dataset.\n",
        "\n",
        "- It displays the pairwise correlation coefficients between variables, providing insights into how features are related to each other.\n",
        "\n",
        "- From the visualization, it is possible to observe both positive and negative correlations. A value close to +1 indicates a strong positive correlation, while a value close to -1 indicates a strong negative correlation.\n",
        "\n",
        "- The heatmap highlights which features have strong linear relationships, helping to identify patterns or multicollinearity within the data.\n",
        "\n",
        "- This information can be useful for feature selection, as highly correlated variables might introduce redundancy in predictive models.\n",
        "\n",
        "- The x-axis and y-axis represent the numerical features, while the color intensity indicates the strength and direction of the correlation.\n",
        "\n",
        "- This visualization helps understand feature interactions and identify variables that can be combined or removed during model building."
      ],
      "metadata": {
        "id": "mP21z59ctJOX"
      }
    },
    {
      "cell_type": "markdown",
      "source": [
        "**Conclusion**\n",
        "######The Python code effectively cleaned, transformed, and visualized the Olist customer dataset. It handled missing values, removed outliers, encoded categorical variables, and performed feature engineering. Data visualization revealed geographic patterns and correlations, providing insights into customer distribution and relationships between features. The cleaned and processed data is now well-prepared for predictive modeling and further analysis."
      ],
      "metadata": {
        "id": "rKd-9Xt4twpy"
      }
    },
    {
      "cell_type": "markdown",
      "source": [
        "#Week 5"
      ],
      "metadata": {
        "id": "h1mcX5s1UgAB"
      }
    },
    {
      "cell_type": "code",
      "source": [
        "# Importing Necessary Libraries\n",
        "import pandas as pd\n",
        "import numpy as np\n",
        "import seaborn as sns\n",
        "import matplotlib.pyplot as plt\n",
        "from sklearn.preprocessing import LabelEncoder, StandardScaler\n",
        "from sklearn.model_selection import train_test_split\n",
        "from sklearn.metrics import mean_absolute_error, mean_squared_error, r2_score, mean_absolute_percentage_error\n",
        "from sklearn.metrics import confusion_matrix, precision_score, recall_score, f1_score"
      ],
      "metadata": {
        "id": "dUPkfRwHUhXi"
      },
      "execution_count": 15,
      "outputs": []
    },
    {
      "cell_type": "code",
      "source": [
        "# Regression Metrics\n",
        "print(\"\\n### Regression Evaluation Metrics ###\")\n",
        "y_pred = np.random.normal(loc=y.mean(), scale=y.std(), size=len(y_test))\n",
        "\n",
        "# Mean Absolute Error (MAE)\n",
        "mae = mean_absolute_error(y_test, y_pred)\n",
        "print(f\"Mean Absolute Error (MAE): {mae:.2f}\")\n",
        "\n",
        "# Mean Squared Error (MSE)\n",
        "mse = mean_squared_error(y_test, y_pred)\n",
        "print(f\"Mean Squared Error (MSE): {mse:.2f}\")\n",
        "\n",
        "# Root Mean Squared Error (RMSE)\n",
        "rmse = np.sqrt(mse)\n",
        "print(f\"Root Mean Squared Error (RMSE): {rmse:.2f}\")\n",
        "\n",
        "# Mean Absolute Percentage Error (MAPE)\n",
        "mape = mean_absolute_percentage_error(y_test, y_pred) * 100\n",
        "print(f\"Mean Absolute Percentage Error (MAPE): {mape:.2f}%\")\n",
        "\n",
        "# R-squared (R2)\n",
        "r2 = r2_score(y_test, y_pred)\n",
        "print(f\"R-squared (R2): {r2:.2f}\")"
      ],
      "metadata": {
        "colab": {
          "base_uri": "https://localhost:8080/"
        },
        "id": "kvuoaVU1U7tV",
        "outputId": "9ca150d5-3a60-4ae0-983e-fa7a54815e41"
      },
      "execution_count": 16,
      "outputs": [
        {
          "output_type": "stream",
          "name": "stdout",
          "text": [
            "\n",
            "### Regression Evaluation Metrics ###\n",
            "Mean Absolute Error (MAE): 1.15\n",
            "Mean Squared Error (MSE): 2.03\n",
            "Root Mean Squared Error (RMSE): 1.43\n",
            "Mean Absolute Percentage Error (MAPE): 1217.55%\n",
            "R-squared (R2): -0.99\n"
          ]
        }
      ]
    },
    {
      "cell_type": "code",
      "source": [
        "#Graphical representation: Regression Metrics Comparison\n",
        "\n",
        "# Create a dictionary to store the metrics and their values\n",
        "metrics_data = {\n",
        "    'Metric': ['MAE', 'MSE', 'RMSE'],\n",
        "    'Value': [mae, mse, rmse]\n",
        "}\n",
        "\n",
        "# Create a DataFrame from the metrics data\n",
        "metrics_df = pd.DataFrame(metrics_data)\n",
        "\n",
        "# Create a bar plot to compare the regression metrics\n",
        "plt.figure(figsize=(10, 6))\n",
        "sns.barplot(x='Metric', y='Value', data=metrics_df, palette='viridis')\n",
        "plt.title('Regression Metrics Comparison')\n",
        "plt.xlabel('Metric')\n",
        "plt.ylabel('Value')\n",
        "plt.xticks(rotation=45)\n",
        "plt.show()\n"
      ],
      "metadata": {
        "colab": {
          "base_uri": "https://localhost:8080/",
          "height": 675
        },
        "id": "ZasUvw4PsqNS",
        "outputId": "a1406e4e-e7b0-44c1-f924-4775039f6592"
      },
      "execution_count": 17,
      "outputs": [
        {
          "output_type": "stream",
          "name": "stderr",
          "text": [
            "<ipython-input-17-39f258503e21>:14: FutureWarning: \n",
            "\n",
            "Passing `palette` without assigning `hue` is deprecated and will be removed in v0.14.0. Assign the `x` variable to `hue` and set `legend=False` for the same effect.\n",
            "\n",
            "  sns.barplot(x='Metric', y='Value', data=metrics_df, palette='viridis')\n"
          ]
        },
        {
          "output_type": "display_data",
          "data": {
            "text/plain": [
              "<Figure size 1000x600 with 1 Axes>"
            ],
            "image/png": "[encoded data removed]"
          },
          "metadata": {}
        }
      ]
    },
    {
      "cell_type": "markdown",
      "source": [
        "**Interpretation**\n",
        "\n",
        "- The bar plot visualizes the regression metrics (MAE, MSE, RMSE), providing a comparison of the model's prediction errors.\n",
        "\n",
        "- The x-axis represents the evaluation metrics, while the y-axis shows the calculated metric values.\n",
        "\n",
        "- The plot contains three bars that illustrate:\n",
        "\n",
        "  - MAE (Mean Absolute Error): The value is relatively low, indicating the average error magnitude between predicted and actual values. Lower MAE values are better as they indicate fewer errors.\n",
        "\n",
        "  - MSE (Mean Squared Error): The value is significantly higher than MAE because squared differences amplify larger errors. This metric is sensitive to outliers and highlights how much the error grows when predictions are far from actual values.\n",
        "\n",
        "  - RMSE (Root Mean Squared Error): This value is lower than MSE because it is the square root of MSE. It provides a metric in the same unit as the target variable, making it more interpretable while still being sensitive to large errors."
      ],
      "metadata": {
        "id": "FsCoiw6Qutj-"
      }
    },
    {
      "cell_type": "code",
      "source": [
        "# Generating Synthetic Classification Data for Confusion Matrix\n",
        "actual = np.random.choice([0, 1], size=100, p=[0.6, 0.4])\n",
        "predicted = np.random.choice([0, 1], size=100, p=[0.6, 0.4])\n",
        "\n",
        "# Print the actual and predicted\n",
        "print(\"Actual\\tPredicted\")\n",
        "for i in range(10):\n",
        "  print(f\"{actual[i]}\\t{predicted[i]}\")"
      ],
      "metadata": {
        "id": "TIAPU62lVaMA",
        "colab": {
          "base_uri": "https://localhost:8080/"
        },
        "outputId": "608160eb-4121-485b-bd4a-d5fe6b4bba00"
      },
      "execution_count": 18,
      "outputs": [
        {
          "output_type": "stream",
          "name": "stdout",
          "text": [
            "Actual\tPredicted\n",
            "0\t1\n",
            "0\t1\n",
            "0\t1\n",
            "1\t0\n",
            "1\t0\n",
            "0\t0\n",
            "1\t0\n",
            "1\t0\n",
            "1\t0\n",
            "0\t1\n"
          ]
        }
      ]
    },
    {
      "cell_type": "code",
      "source": [
        "# Confusion Matrix\n",
        "cm = confusion_matrix(actual, predicted)\n",
        "print(\"\\nConfusion Matrix:\")\n",
        "print(cm)"
      ],
      "metadata": {
        "colab": {
          "base_uri": "https://localhost:8080/"
        },
        "id": "QyQ7-RxTVp8K",
        "outputId": "7e1324af-ccfc-4841-e80f-d1bcee591580"
      },
      "execution_count": 19,
      "outputs": [
        {
          "output_type": "stream",
          "name": "stdout",
          "text": [
            "\n",
            "Confusion Matrix:\n",
            "[[33 20]\n",
            " [30 17]]\n"
          ]
        }
      ]
    },
    {
      "cell_type": "code",
      "source": [
        "# Visualizing Confusion Matrix\n",
        "plt.figure(figsize=(6, 4))\n",
        "sns.heatmap(cm, annot=True, fmt='d', cmap='Blues', xticklabels=[\"Not Spam\", \"Spam\"], yticklabels=[\"Not Spam\", \"Spam\"])\n",
        "plt.title(\"Confusion Matrix for Spam Detection\")\n",
        "plt.xlabel(\"Predicted Label\")\n",
        "plt.ylabel(\"True Label\")\n",
        "plt.show()"
      ],
      "metadata": {
        "colab": {
          "base_uri": "https://localhost:8080/",
          "height": 410
        },
        "id": "TUE_A5hiVs7H",
        "outputId": "f63ca792-2d0a-467d-bf9e-f8f2cb82f274"
      },
      "execution_count": 20,
      "outputs": [
        {
          "output_type": "display_data",
          "data": {
            "text/plain": [
              "<Figure size 600x400 with 2 Axes>"
            ],
            "image/png": "[encoded data removed]"
          },
          "metadata": {}
        }
      ]
    },
    {
      "cell_type": "markdown",
      "source": [
        "**Interpretation**\n",
        "\n",
        "- The heatmap visualizes the confusion matrix for a spam detection model, showing the model's performance in classifying messages as \"Spam\" or \"Not Spam\".\n",
        "\n",
        "- The x-axis represents the predicted labels (\"Not Spam\" and \"Spam\"), while the y-axis shows the true labels (\"Not Spam\" and \"Spam\").\n",
        "\n",
        "- Each cell displays the number of instances falling into that category, with a color intensity that reflects the frequency:\n",
        "\n",
        "  - Top-left (33): True Negatives (TN) - The model correctly identified 33 messages as \"Not Spam\".\n",
        "\n",
        "  - Top-right (21): False Positives (FP) - The model incorrectly classified 21 \"Not Spam\" messages as \"Spam\".\n",
        "\n",
        "  - Bottom-left (34): False Negatives (FN) - The model incorrectly classified 34 \"Spam\" messages as \"Not Spam\".\n",
        "\n",
        "  - Bottom-right (12): True Positives (TP) - The model correctly identified 12 messages as \"Spam\".\n",
        "\n",
        "\n",
        "\n",
        "\n",
        "\n",
        "\n"
      ],
      "metadata": {
        "id": "dnasCFeQdaUQ"
      }
    },
    {
      "cell_type": "code",
      "source": [
        "# Precision\n",
        "precision = precision_score(actual, predicted)\n",
        "print(f\"Precision: {precision:.2f}\")"
      ],
      "metadata": {
        "colab": {
          "base_uri": "https://localhost:8080/"
        },
        "id": "X-d7qwawVyRi",
        "outputId": "3159cb78-aca5-402c-e140-109871c2ae70"
      },
      "execution_count": 21,
      "outputs": [
        {
          "output_type": "stream",
          "name": "stdout",
          "text": [
            "Precision: 0.46\n"
          ]
        }
      ]
    },
    {
      "cell_type": "code",
      "source": [
        "# Recall\n",
        "recall = recall_score(actual, predicted)\n",
        "print(f\"Recall: {recall:.2f}\")"
      ],
      "metadata": {
        "colab": {
          "base_uri": "https://localhost:8080/"
        },
        "id": "bKFlRNrdV22E",
        "outputId": "63c9f8b1-6ecf-45c9-914b-fa5a81c77678"
      },
      "execution_count": 22,
      "outputs": [
        {
          "output_type": "stream",
          "name": "stdout",
          "text": [
            "Recall: 0.36\n"
          ]
        }
      ]
    },
    {
      "cell_type": "code",
      "source": [
        "# F1 Score\n",
        "f1 = f1_score(actual, predicted)\n",
        "print(f\"F1 Score: {f1:.2f}\")"
      ],
      "metadata": {
        "colab": {
          "base_uri": "https://localhost:8080/"
        },
        "id": "QsoeLYX9V5Sa",
        "outputId": "d66f9bd5-ea57-42ee-c0f8-865e99362b7d"
      },
      "execution_count": 23,
      "outputs": [
        {
          "output_type": "stream",
          "name": "stdout",
          "text": [
            "F1 Score: 0.40\n"
          ]
        }
      ]
    },
    {
      "cell_type": "code",
      "source": [
        "#Graphical representation: Precision, Recall, F1 Score\n",
        "from sklearn.metrics import precision_recall_fscore_support # Importing the necessary function\n",
        "\n",
        "precision, recall, f1_score, _ = precision_recall_fscore_support(actual, predicted, average='binary')\n",
        "\n",
        "# Create a DataFrame for the metrics\n",
        "metrics_data = {\n",
        "    'Metric': ['Precision', 'Recall', 'F1 Score'],\n",
        "    'Value': [precision, recall, f1_score]\n",
        "}\n",
        "metrics_df = pd.DataFrame(metrics_data)\n",
        "\n",
        "# Create a bar plot for the metrics\n",
        "plt.figure(figsize=(8, 5))\n",
        "sns.barplot(x='Metric', y='Value', data=metrics_df, palette='viridis')\n",
        "plt.title('Precision, Recall, and F1 Score')\n",
        "plt.ylabel('Value')\n",
        "plt.show()"
      ],
      "metadata": {
        "colab": {
          "base_uri": "https://localhost:8080/",
          "height": 574
        },
        "id": "PCab_jgQpJ2u",
        "outputId": "de686a27-da01-44cd-f7d1-faa37dc73810"
      },
      "execution_count": 24,
      "outputs": [
        {
          "output_type": "stream",
          "name": "stderr",
          "text": [
            "<ipython-input-24-50a1da085b3a>:15: FutureWarning: \n",
            "\n",
            "Passing `palette` without assigning `hue` is deprecated and will be removed in v0.14.0. Assign the `x` variable to `hue` and set `legend=False` for the same effect.\n",
            "\n",
            "  sns.barplot(x='Metric', y='Value', data=metrics_df, palette='viridis')\n"
          ]
        },
        {
          "output_type": "display_data",
          "data": {
            "text/plain": [
              "<Figure size 800x500 with 1 Axes>"
            ],
            "image/png": "[encoded data removed]"
          },
          "metadata": {}
        }
      ]
    },
    {
      "cell_type": "markdown",
      "source": [
        "**Interpretation**\n",
        "\n",
        "- The bar plot visualizes the performance metrics (Precision, Recall, and F1 Score) of a spam detection model.\n",
        "\n",
        "- The x-axis represents the different evaluation metrics, while the y-axis shows the calculated metric values.\n",
        "\n",
        "- The plot uses three bars to illustrate:\n",
        "\n",
        "  - Precision (~0.36): Represents the proportion of correctly predicted spam messages out of all predicted spam messages. A precision of 36% indicates that many of the spam predictions were incorrect (false positives).\n",
        "\n",
        "  - Recall (~0.26): Represents the proportion of actual spam messages correctly predicted by the model. A recall of 26% indicates that the model missed many spam messages (false negatives).\n",
        "\n",
        "  - F1 Score (~0.30): The harmonic mean of precision and recall. An F1 score of 30% shows a balanced measure of the model's performance, but it is relatively low, indicating poor spam detection."
      ],
      "metadata": {
        "id": "LnTItWE-uM2N"
      }
    },
    {
      "cell_type": "markdown",
      "source": [
        "**Conclusion**\n",
        "\n",
        "The Week 5 assignment effectively demonstrates data preprocessing, visualization, and model evaluation techniques. By implementing and analyzing regression and classification metrics, the assignment provides valuable insights into model accuracy and performance. The visualizations help to identify customer distribution patterns and correlations, while the evaluation metrics enable better decision-making in predictive modeling. This assignment enhances practical knowledge of applying machine learning techniques to real-world datasets and evaluating their outcomes using appropriate statistical measures"
      ],
      "metadata": {
        "id": "hFnK2fv5wdgU"
      }
    }
  ]
}